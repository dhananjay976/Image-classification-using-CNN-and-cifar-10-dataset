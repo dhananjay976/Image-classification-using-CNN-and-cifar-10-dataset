{
 "cells": [
  {
   "cell_type": "markdown",
   "id": "a809a7e4",
   "metadata": {},
   "source": [
    "# CNN model to classify cifar10 datasets"
   ]
  },
  {
   "cell_type": "markdown",
   "id": "af2a9582",
   "metadata": {},
   "source": [
    "## Importing the Libraries"
   ]
  },
  {
   "cell_type": "code",
   "execution_count": 1,
   "id": "43e3f900",
   "metadata": {},
   "outputs": [],
   "source": [
    "import tensorflow as tf\n",
    "from tensorflow.keras import datasets, layers, models\n",
    "import matplotlib.pyplot as plt\n",
    "import numpy as np\n",
    "from keras.preprocessing.image import ImageDataGenerator"
   ]
  },
  {
   "cell_type": "markdown",
   "id": "af60542b",
   "metadata": {},
   "source": [
    "## Loading the datasets"
   ]
  },
  {
   "cell_type": "code",
   "execution_count": 2,
   "id": "bf21723d",
   "metadata": {},
   "outputs": [],
   "source": [
    "(x_train, y_train), (x_test, y_test) = datasets.cifar10.load_data()"
   ]
  },
  {
   "cell_type": "markdown",
   "id": "60c7f01e",
   "metadata": {},
   "source": [
    "## Datasets information"
   ]
  },
  {
   "cell_type": "code",
   "execution_count": 3,
   "id": "f53d898b",
   "metadata": {},
   "outputs": [
    {
     "data": {
      "text/plain": [
       "(50000, 32, 32, 3)"
      ]
     },
     "execution_count": 3,
     "metadata": {},
     "output_type": "execute_result"
    }
   ],
   "source": [
    "x_train.shape"
   ]
  },
  {
   "cell_type": "code",
   "execution_count": 4,
   "id": "d185e40e",
   "metadata": {},
   "outputs": [
    {
     "data": {
      "text/plain": [
       "(10000, 32, 32, 3)"
      ]
     },
     "execution_count": 4,
     "metadata": {},
     "output_type": "execute_result"
    }
   ],
   "source": [
    "x_test.shape"
   ]
  },
  {
   "cell_type": "code",
   "execution_count": 5,
   "id": "bcf5d839",
   "metadata": {},
   "outputs": [
    {
     "data": {
      "text/plain": [
       "(50000, 1)"
      ]
     },
     "execution_count": 5,
     "metadata": {},
     "output_type": "execute_result"
    }
   ],
   "source": [
    "y_train.shape"
   ]
  },
  {
   "cell_type": "code",
   "execution_count": 6,
   "id": "d31acdc9",
   "metadata": {},
   "outputs": [
    {
     "data": {
      "text/plain": [
       "array([3, 8, 8, ..., 5, 1, 7], dtype=uint8)"
      ]
     },
     "execution_count": 6,
     "metadata": {},
     "output_type": "execute_result"
    }
   ],
   "source": [
    "y_train.reshape(-1, )\n",
    "y_test.reshape(-1, )"
   ]
  },
  {
   "cell_type": "code",
   "execution_count": 7,
   "id": "8212ebad",
   "metadata": {},
   "outputs": [],
   "source": [
    "classes = [\"airplane\",\"automobile\",\"bird\",\"cat\",\"deer\",\"dog\",\"frog\",\"horse\",\"ship\",\"truck\"]"
   ]
  },
  {
   "cell_type": "code",
   "execution_count": 8,
   "id": "40d540f4",
   "metadata": {},
   "outputs": [],
   "source": [
    "def images(x, index):\n",
    "    plt.figure(figsize = (15, 2))\n",
    "    plt.imshow(x[index])"
   ]
  },
  {
   "cell_type": "code",
   "execution_count": 9,
   "id": "ef01c109",
   "metadata": {},
   "outputs": [
    {
     "data": {
      "image/png": "[encoded data removed]",
      "text/plain": [
       "<Figure size 1080x144 with 1 Axes>"
      ]
     },
     "metadata": {
      "needs_background": "light"
     },
     "output_type": "display_data"
    }
   ],
   "source": [
    "images(x_train, 0)"
   ]
  },
  {
   "cell_type": "code",
   "execution_count": 11,
   "id": "3229589d",
   "metadata": {},
   "outputs": [
    {
     "data": {
      "image/png": "[encoded data removed]",
      "text/plain": [
       "<Figure size 1080x144 with 1 Axes>"
      ]
     },
     "metadata": {
      "needs_background": "light"
     },
     "output_type": "display_data"
    }
   ],
   "source": [
    "images(x_train, 10)"
   ]
  },
  {
   "cell_type": "markdown",
   "id": "bbfcd6af",
   "metadata": {},
   "source": [
    "## Normalising the data"
   ]
  },
  {
   "cell_type": "code",
   "execution_count": 12,
   "id": "e1e607b6",
   "metadata": {},
   "outputs": [],
   "source": [
    "x_train = x_train / 255\n",
    "x_test = x_test / 255"
   ]
  },
  {
   "cell_type": "markdown",
   "id": "26536a87",
   "metadata": {},
   "source": [
    "## Building CNN model"
   ]
  },
  {
   "cell_type": "code",
   "execution_count": 15,
   "id": "8136b798",
   "metadata": {},
   "outputs": [],
   "source": [
    "cnn = models.Sequential()"
   ]
  },
  {
   "cell_type": "markdown",
   "id": "ee427b03",
   "metadata": {},
   "source": [
    "### First convolutional layer"
   ]
  },
  {
   "cell_type": "code",
   "execution_count": 17,
   "id": "c9331b91",
   "metadata": {},
   "outputs": [],
   "source": [
    "cnn.add(layers.Conv2D(filters = 32, kernel_size = (3, 3), activation = 'relu', input_shape = (32, 32, 3)))"
   ]
  },
  {
   "cell_type": "markdown",
   "id": "f349f493",
   "metadata": {},
   "source": [
    "### First pooling layer "
   ]
  },
  {
   "cell_type": "code",
   "execution_count": 18,
   "id": "c421c74f",
   "metadata": {},
   "outputs": [],
   "source": [
    "cnn.add(layers.MaxPool2D(pool_size = 2, strides = 2))"
   ]
  },
  {
   "cell_type": "markdown",
   "id": "47942393",
   "metadata": {},
   "source": [
    "### Second convolutional and pooling layer"
   ]
  },
  {
   "cell_type": "code",
   "execution_count": 19,
   "id": "fda931a1",
   "metadata": {},
   "outputs": [],
   "source": [
    "cnn.add(layers.Conv2D(filters = 32, kernel_size = (3, 3), activation = 'relu'))\n",
    "cnn.add(layers.MaxPool2D(pool_size = 2, strides = 2))"
   ]
  },
  {
   "cell_type": "markdown",
   "id": "e4d39b6e",
   "metadata": {},
   "source": [
    "### Flattened Layer "
   ]
  },
  {
   "cell_type": "code",
   "execution_count": 21,
   "id": "4250411f",
   "metadata": {},
   "outputs": [],
   "source": [
    "cnn.add(layers.Flatten())"
   ]
  },
  {
   "cell_type": "markdown",
   "id": "ab47bea1",
   "metadata": {},
   "source": [
    "### Full connected layer or hidden layer"
   ]
  },
  {
   "cell_type": "code",
   "execution_count": 22,
   "id": "9292c054",
   "metadata": {},
   "outputs": [],
   "source": [
    "cnn.add(layers.Dense(64, activation='relu'))"
   ]
  },
  {
   "cell_type": "markdown",
   "id": "c044ad27",
   "metadata": {},
   "source": [
    "### Output layer"
   ]
  },
  {
   "cell_type": "code",
   "execution_count": 25,
   "id": "772b58d4",
   "metadata": {},
   "outputs": [],
   "source": [
    "cnn.add(layers.Dense(10, activation='softmax'))"
   ]
  },
  {
   "cell_type": "markdown",
   "id": "27191001",
   "metadata": {},
   "source": [
    "## Training the CNN"
   ]
  },
  {
   "cell_type": "code",
   "execution_count": null,
   "id": "21bdc8c5",
   "metadata": {},
   "outputs": [],
   "source": [
    "cnn.compile(optimizer ='adam', loss = 'sparse_categorical_crossentropy', metrics = ['accuracy'])"
   ]
  },
  {
   "cell_type": "code",
   "execution_count": 29,
   "id": "8f42139c",
   "metadata": {},
   "outputs": [
    {
     "name": "stdout",
     "output_type": "stream",
     "text": [
      "Epoch 1/10\n",
      "1563/1563 [==============================] - 73s 45ms/step - loss: 1.4676 - accuracy: 0.4729\n",
      "Epoch 2/10\n",
      "1563/1563 [==============================] - 71s 46ms/step - loss: 1.1255 - accuracy: 0.6041\n",
      "Epoch 3/10\n",
      "1563/1563 [==============================] - 72s 46ms/step - loss: 1.0135 - accuracy: 0.6449\n",
      "Epoch 4/10\n",
      "1563/1563 [==============================] - 75s 48ms/step - loss: 0.9367 - accuracy: 0.6749\n",
      "Epoch 5/10\n",
      "1563/1563 [==============================] - 78s 50ms/step - loss: 0.8806 - accuracy: 0.6920\n",
      "Epoch 6/10\n",
      "1563/1563 [==============================] - 74s 48ms/step - loss: 0.8283 - accuracy: 0.7097\n",
      "Epoch 7/10\n",
      "1563/1563 [==============================] - 70s 45ms/step - loss: 0.7832 - accuracy: 0.7251\n",
      "Epoch 8/10\n",
      "1563/1563 [==============================] - 70s 45ms/step - loss: 0.7474 - accuracy: 0.7392\n",
      "Epoch 9/10\n",
      "1563/1563 [==============================] - 72s 46ms/step - loss: 0.7131 - accuracy: 0.7500\n",
      "Epoch 10/10\n",
      "1563/1563 [==============================] - 72s 46ms/step - loss: 0.6799 - accuracy: 0.7608\n"
     ]
    },
    {
     "data": {
      "text/plain": [
       "<keras.callbacks.History at 0x1ec1e53f850>"
      ]
     },
     "execution_count": 29,
     "metadata": {},
     "output_type": "execute_result"
    }
   ],
   "source": [
    "cnn.fit(x_train, y_train, epochs=10)"
   ]
  },
  {
   "cell_type": "markdown",
   "id": "507ea240",
   "metadata": {},
   "source": [
    "## Result (loss and Accuracy)"
   ]
  },
  {
   "cell_type": "code",
   "execution_count": 30,
   "id": "aa57848b",
   "metadata": {},
   "outputs": [
    {
     "name": "stdout",
     "output_type": "stream",
     "text": [
      "313/313 [==============================] - 6s 18ms/step - loss: 0.9208 - accuracy: 0.6820\n"
     ]
    },
    {
     "data": {
      "text/plain": [
       "[0.9207691550254822, 0.6819999814033508]"
      ]
     },
     "execution_count": 30,
     "metadata": {},
     "output_type": "execute_result"
    }
   ],
   "source": [
    "cnn.evaluate(x_test, y_test)"
   ]
  },
  {
   "cell_type": "code",
   "execution_count": null,
   "id": "b2380a66",
   "metadata": {},
   "outputs": [],
   "source": []
  }
 ],
 "metadata": {
  "kernelspec": {
   "display_name": "Python 3 (ipykernel)",
   "language": "python",
   "name": "python3"
  },
  "language_info": {
   "codemirror_mode": {
    "name": "ipython",
    "version": 3
   },
   "file_extension": ".py",
   "mimetype": "text/x-python",
   "name": "python",
   "nbconvert_exporter": "python",
   "pygments_lexer": "ipython3",
   "version": "3.9.12"
  }
 },
 "nbformat": 4,
 "nbformat_minor": 5
}
